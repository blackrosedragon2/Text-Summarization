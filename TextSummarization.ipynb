{
  "nbformat": 4,
  "nbformat_minor": 0,
  "metadata": {
    "colab": {
      "name": "TextSummarization",
      "provenance": [],
      "collapsed_sections": [],
      "include_colab_link": true
    },
    "kernelspec": {
      "name": "python3",
      "display_name": "Python 3"
    },
    "accelerator": "GPU"
  },
  "cells": [
    {
      "cell_type": "markdown",
      "metadata": {
        "id": "view-in-github",
        "colab_type": "text"
      },
      "source": [
        "<a href=\"https://colab.research.google.com/github/blackrosedragon2/Text-Summarization/blob/master/TextSummarization.ipynb\" target=\"_parent\"><img src=\"https://colab.research.google.com/assets/colab-badge.svg\" alt=\"Open In Colab\"/></a>"
      ]
    },
    {
      "cell_type": "code",
      "metadata": {
        "id": "eEvQFi0wa1fA",
        "colab_type": "code",
        "outputId": "ecd3ff24-061e-4630-9956-a95e4199a61a",
        "colab": {
          "base_uri": "https://localhost:8080/",
          "height": 225
        }
      },
      "source": [
        "!pip install tqdm\n",
        "!pip install pyspellchecker\n",
        "!pip install torchsummaryx"
      ],
      "execution_count": 24,
      "outputs": [
        {
          "output_type": "stream",
          "text": [
            "Requirement already satisfied: tqdm in /usr/local/lib/python3.6/dist-packages (4.28.1)\n",
            "Requirement already satisfied: pyspellchecker in /usr/local/lib/python3.6/dist-packages (0.5.2)\n",
            "Collecting torchsummaryx\n",
            "  Downloading https://files.pythonhosted.org/packages/36/23/87eeaaf70daa61aa21495ece0969c50c446b8fd42c4b8905af264b40fe7f/torchsummaryX-1.3.0-py3-none-any.whl\n",
            "Requirement already satisfied: numpy in /usr/local/lib/python3.6/dist-packages (from torchsummaryx) (1.17.3)\n",
            "Requirement already satisfied: torch in /usr/local/lib/python3.6/dist-packages (from torchsummaryx) (1.3.0+cu100)\n",
            "Requirement already satisfied: pandas in /usr/local/lib/python3.6/dist-packages (from torchsummaryx) (0.25.2)\n",
            "Requirement already satisfied: pytz>=2017.2 in /usr/local/lib/python3.6/dist-packages (from pandas->torchsummaryx) (2018.9)\n",
            "Requirement already satisfied: python-dateutil>=2.6.1 in /usr/local/lib/python3.6/dist-packages (from pandas->torchsummaryx) (2.6.1)\n",
            "Requirement already satisfied: six>=1.5 in /usr/local/lib/python3.6/dist-packages (from python-dateutil>=2.6.1->pandas->torchsummaryx) (1.12.0)\n",
            "Installing collected packages: torchsummaryx\n",
            "Successfully installed torchsummaryx-1.3.0\n"
          ],
          "name": "stdout"
        }
      ]
    },
    {
      "cell_type": "code",
      "metadata": {
        "id": "eqrMHmThPzJb",
        "colab_type": "code",
        "outputId": "163f72d4-12d3-4459-9337-d8a84b35fa6c",
        "colab": {
          "base_uri": "https://localhost:8080/",
          "height": 124
        }
      },
      "source": [
        "#Reading data onto zipfile object ZF\n",
        "from google.colab import drive\n",
        "import os \n",
        "import zipfile\n",
        "drive.mount('/content/gdrive')\n",
        "root_path = '/content/gdrive/My Drive/data/'  \n",
        "zf=zipfile.ZipFile(root_path+\"cnn_stories.zip\")"
      ],
      "execution_count": 0,
      "outputs": [
        {
          "output_type": "stream",
          "text": [
            "Go to this URL in a browser: https://accounts.google.com/o/oauth2/auth?client_id=947318989803-6bn6qk8qdgf4n4g3pfee6491hc0brc4i.apps.googleusercontent.com&redirect_uri=urn%3Aietf%3Awg%3Aoauth%3A2.0%3Aoob&scope=email%20https%3A%2F%2Fwww.googleapis.com%2Fauth%2Fdocs.test%20https%3A%2F%2Fwww.googleapis.com%2Fauth%2Fdrive%20https%3A%2F%2Fwww.googleapis.com%2Fauth%2Fdrive.photos.readonly%20https%3A%2F%2Fwww.googleapis.com%2Fauth%2Fpeopleapi.readonly&response_type=code\n",
            "\n",
            "Enter your authorization code:\n",
            "··········\n",
            "Mounted at /content/gdrive\n"
          ],
          "name": "stdout"
        }
      ]
    },
    {
      "cell_type": "code",
      "metadata": {
        "id": "Q9aAAGcDdq2Q",
        "colab_type": "code",
        "colab": {}
      },
      "source": [
        "import re\n",
        "from spellchecker import SpellChecker\n",
        "class preprocess:\n",
        "    #Accepts a string and performs string operations on it\n",
        "    def seperate(self,para):#1\n",
        "        # find @highlight, add length and split story and summary, then decode to utf-8 format, use split tokenizer and seperate the 4 lines , split the \\n parts and return the list\n",
        "        story=para[:para.find('@highlight')]\n",
        "        summary=[i.splitlines()[2] for i in (para[para.find('@highlight')+len('@highlight'):]).split('@highlight')]\n",
        "        return story,summary    \n",
        "        #returns (string,list)\n",
        "    \n",
        "    def spell_check(self,para):#2\n",
        "        #corrects spellings(may not be used for us) + takes much longer to correct spellings (5+ minutes)\n",
        "        spell = SpellChecker()\n",
        "        para=para.split(' ')\n",
        "        correctpara=[]\n",
        "        for word in para:\n",
        "            correctpara.append(spell.correction(word))\n",
        "        return ' '.join(correctpara)\n",
        "\n",
        "    def remove_apostrophes(self,para):#3\n",
        "        return re.sub(\"(?<=[a-z])'(?=[a-z])\", \"\", para)\n",
        "\n",
        "    def remove_parentheses(self,para):#4\n",
        "        #removes anything inside parentheses\n",
        "        return re.sub(r'\\([^)]*\\)', '', para)\n",
        "\n",
        "    def remove_sp(self,para):#5\n",
        "        #removes special symbols\n",
        "        return re.sub('[^A-Za-z0-9]+', ' ', para)   #note: add exception for words like U.N. \n",
        "\n",
        "    def remove_short(self,para):#6\n",
        "        #removes words that are <3 in length\n",
        "        para=para.split(' ')\n",
        "        longpara=[]\n",
        "        for word in para:\n",
        "            if len(word) >= 3:\n",
        "                longpara.append(word)\n",
        "        return ' '.join(longpara)\n",
        "\n",
        "    def add_tags(self,para):#7\n",
        "        #add start and end tags \n",
        "        para=\"<start>\"+para+\"<end>\"\n",
        "        return para\n",
        "\n",
        "    def apply_all(self,para):#8\n",
        "        #applies 1,3,4,5,6 functions, may need reordering \n",
        "        p=preprocess()\n",
        "\n",
        "        story,summary=p.seperate(para.decode(\"utf-8\"))\n",
        "\n",
        "        #story=p.spell_check(story)\n",
        "        #summary=p.spell_check(summary)\n",
        "\n",
        "        story=p.remove_apostrophes(story)\n",
        "        summary=[p.remove_apostrophes(i) for i in summary] \n",
        "\n",
        "        story=p.remove_parentheses(story)\n",
        "        summary=[p.remove_parentheses(i) for i in summary]\n",
        "\n",
        "        story=p.remove_sp(story)\n",
        "        summary=[p.remove_sp(i) for i in summary]\n",
        "\n",
        "        story=p.remove_short(story)\n",
        "        summary=[p.remove_short(i) for i in summary]\n",
        "\n",
        "        return story,summary\n",
        "\n"
      ],
      "execution_count": 0,
      "outputs": []
    },
    {
      "cell_type": "code",
      "metadata": {
        "id": "gRFIPzWhP-Km",
        "colab_type": "code",
        "outputId": "63d840ce-e2e7-4b6d-9eee-b22fe2f04038",
        "colab": {
          "base_uri": "https://localhost:8080/",
          "height": 280
        }
      },
      "source": [
        "#Read content of all files onto x (takes approximatly 13 minutes for both modes)\n",
        "from tqdm import tqdm\n",
        "\n",
        "def get_data(preproc=0):\n",
        "    i=1\n",
        "    if preproc==1:\n",
        "        stories=[]\n",
        "        story=[]\n",
        "        summaries=[]\n",
        "        summary=[]\n",
        "        p=preprocess()\n",
        "        with tqdm(total=92600) as pbar:\n",
        "            while(True):\n",
        "                #Reads zip file until eof exception occurs\n",
        "                i=i+1\n",
        "                try:\n",
        "                    story,summary=p.apply_all(zf.open(zf.namelist()[i]).read())\n",
        "                    stories.append(story)\n",
        "                    summaries.append(summary)\n",
        "                except Exception as E:\n",
        "                    break\n",
        "                pbar.update(1)\n",
        "        return stories,summaries\n",
        "    else:\n",
        "        x=[]\n",
        "        with tqdm(total=92600) as pbar:\n",
        "            while(True):\n",
        "                #Reads zip file until eof exception occurs\n",
        "                i=i+1\n",
        "                try:\n",
        "                    x.append(zf.open(zf.namelist()[i]).read())\n",
        "                except Exception as E:\n",
        "                    break\n",
        "                pbar.update(1)\n",
        "        return x\n",
        "\n",
        "_,summa=get_data(1) \n",
        "for j,i in enumerate(summa):\n",
        "    print(i)\n",
        "    if j>10:\n",
        "        break"
      ],
      "execution_count": 0,
      "outputs": [
        {
          "output_type": "stream",
          "text": [
            "100%|█████████▉| 92579/92600 [11:48<00:00, 130.61it/s]"
          ],
          "name": "stderr"
        },
        {
          "output_type": "stream",
          "text": [
            "['Syrian official Obama climbed the top the tree doesnt know how get down', 'Obama sends letter the heads the House and Senate', 'Obama seek congressional approval military action against Syria', 'Aim determine whether were used not whom says spokesman']\n",
            "['Usain Bolt wins third gold world championship', 'Anchors Jamaica 4x100m relay victory', 'Eighth gold the championships for Bolt', 'Jamaica double womens 4x100m relay']\n",
            "['The employee agencys Kansas City office among hundreds virtual workers', 'The employees travel and from the mainland last year cost more than 000', 'The telecommuting program like all GSA practices under review']\n",
            "['NEW Canadian doctor says she was part team examining Harry Burkhart 2010', 'NEW Diagnosis autism severe anxiety post traumatic stress disorder and depression', 'Burkhart also suspected German arson probe officials say', 'Prosecutors believe the German national set string fires Los Angeles']\n",
            "['Another arrest made gang rape outside California school', 'Investigators say people took part stood and watched the assault', 'Four suspects appeared court Thursday three wore bulletproof vests']\n",
            "['Humanitarian groups expect 000 refugees one camp official says', 'Others have fled across the border camps Liberia says', 'This follows attacks that killed peacekeepers and civilians']\n",
            "['NEW groups announce legal challenge Phoenix', 'American Civil Liberties Union ACLU Arizona National Immigration Law Center slam law', 'Mexican American Legal Defense and Educational Fund also objects', 'They say law encourages racial profiling but supporters say doesnt involve any illegal acts']\n",
            "['Labor Day the unofficial end summer and the unofficial start campaign season', 'much billion could spent advertising for this midterm election', 'Here are five must follow races for these midterms']\n",
            "['NEW Autopsy indicates had been dead for hours before police arrived', 'YouTube video appears show the activist bound and blindfolded', 'The activist and freelance journalist was from the Lombardy region northern Italy']\n",
            "['The radio personality was taken hospital Sunday', 'Spokesman for hospital says Casey Kasem being treated for wounds blood pressure issues', 'had been friends home Washington state after his wife took him there', 'She has been feuding with three stepchildren over the radio icons care']\n",
            "['Hawaiian Airlines again lands time performance', 'The Airline Quality Rankings Report looks the largest airlines', 'ExpressJet and American Airlines had the worst time performance', 'Virgin America had the best baggage handling Southwest had lowest complaint rate']\n",
            "['The new cardinals will installed February', 'They come from countries such Myanmar and Tonga', 'Americans made the list this time the previous time Francis papacy']\n"
          ],
          "name": "stdout"
        },
        {
          "output_type": "stream",
          "text": [
            "\n"
          ],
          "name": "stderr"
        }
      ]
    },
    {
      "cell_type": "code",
      "metadata": {
        "id": "XalfZdPbhJ1M",
        "colab_type": "code",
        "outputId": "5c95883d-d43e-4cf8-8272-af502d2cf1d5",
        "colab": {
          "base_uri": "https://localhost:8080/",
          "height": 473
        }
      },
      "source": [
        "%xmode Plain\n",
        "import torch.nn as nn\n",
        "import torch\n",
        "import numpy as np\n",
        "from torchsummaryX import summary\n",
        "device = torch.device(\"cpu\")\n",
        "\n",
        "class GRU_Encoder(nn.Module):\n",
        "    def __init__(self, input_dim, hidden_dim, output_dim, n_layers, drop=0.2):\n",
        "        super(GRU_Encoder, self).__init__()\n",
        "        #GRU with dropout,fc layer, relu layer\n",
        "        self.hidden_dim = hidden_dim\n",
        "        self.n_layers = n_layers*2 # bidirectional\n",
        "        \n",
        "        self.gru = nn.GRU(input_dim, hidden_dim, n_layers, batch_first=True, dropout=drop, bidirectional =True) \n",
        "        #batch first will create dims such that dimensions=(batch,dim1,dim2...)\n",
        "        self.fc = nn.Linear(hidden_dim*2, output_dim)\n",
        "        self.relu = nn.ReLU()\n",
        "\n",
        "    def init_hidden(self, batch_size):\n",
        "        weight = next(self.parameters()).data      \n",
        "         #grabs any parameter of the model and uses it to instantiate (through .data.new) a new tensor on the same device\n",
        "        hidden = weight.new(self.n_layers, batch_size, self.hidden_dim).zero_().to(device)\n",
        "        #ints a hidden vector shape( n_layer,batch_size,hidden_dim) to zero\n",
        "        return hidden\n",
        "\n",
        "    def forward(self, x, h=0):# x dims=()\n",
        "        if h==0:\n",
        "            h=self.init_hidden(32)\n",
        "\n",
        "        out, h = self.gru(x, h)  \n",
        "\n",
        "        #out=out.view(out.size(0),-1)\n",
        "        #out=self.fc(out)\n",
        "        out=self.relu(out[:,-1])\n",
        "        out = self.fc(out) #makes the dimensions from (batchsize,a,b,c,...) to (batchsize,a*b*c*...)\n",
        "\n",
        "        return out, h  #(output of encoder(give to-> attention mechanism ), next hidden state)\n",
        "\n",
        "#input dims must be (i/p dim,timesteps,batchsize)\n",
        "gruEncoder_model=GRU_Encoder(input_dim=300, hidden_dim=1024, output_dim=20, n_layers=1)\n",
        "inputs = torch.zeros((32,20, 300), dtype=torch.float) # [length, batch_size]\n",
        "summary(gruEncoder_model,inputs)\n"
      ],
      "execution_count": 76,
      "outputs": [
        {
          "output_type": "stream",
          "text": [
            "Exception reporting mode: Plain\n"
          ],
          "name": "stdout"
        },
        {
          "output_type": "stream",
          "text": [
            "/usr/local/lib/python3.6/dist-packages/torch/nn/modules/rnn.py:51: UserWarning: dropout option adds dropout after all but last recurrent layer, so non-zero dropout expects num_layers greater than 1, but got dropout=0.2 and num_layers=1\n",
            "  \"num_layers={}\".format(dropout, num_layers))\n"
          ],
          "name": "stderr"
        },
        {
          "output_type": "stream",
          "text": [
            "=========================================================\n",
            "       Kernel Shape    Output Shape     Params  Mult-Adds\n",
            "Layer                                                    \n",
            "0_gru             -  [32, 20, 2048]  8.146944M  8.134656M\n",
            "1_relu            -      [32, 2048]          -          -\n",
            "2_fc     [2048, 20]        [32, 20]     40.98k     40.96k\n",
            "---------------------------------------------------------\n",
            "                         Totals\n",
            "Total params          8.187924M\n",
            "Trainable params      8.187924M\n",
            "Non-trainable params        0.0\n",
            "Mult-Adds             8.175616M\n",
            "=========================================================\n"
          ],
          "name": "stdout"
        },
        {
          "output_type": "execute_result",
          "data": {
            "text/html": [
              "<div>\n",
              "<style scoped>\n",
              "    .dataframe tbody tr th:only-of-type {\n",
              "        vertical-align: middle;\n",
              "    }\n",
              "\n",
              "    .dataframe tbody tr th {\n",
              "        vertical-align: top;\n",
              "    }\n",
              "\n",
              "    .dataframe thead th {\n",
              "        text-align: right;\n",
              "    }\n",
              "</style>\n",
              "<table border=\"1\" class=\"dataframe\">\n",
              "  <thead>\n",
              "    <tr style=\"text-align: right;\">\n",
              "      <th></th>\n",
              "      <th>Kernel Shape</th>\n",
              "      <th>Output Shape</th>\n",
              "      <th>Params</th>\n",
              "      <th>Mult-Adds</th>\n",
              "    </tr>\n",
              "    <tr>\n",
              "      <th>Layer</th>\n",
              "      <th></th>\n",
              "      <th></th>\n",
              "      <th></th>\n",
              "      <th></th>\n",
              "    </tr>\n",
              "  </thead>\n",
              "  <tbody>\n",
              "    <tr>\n",
              "      <th>0_gru</th>\n",
              "      <td>-</td>\n",
              "      <td>[32, 20, 2048]</td>\n",
              "      <td>8146944.0</td>\n",
              "      <td>8134656.0</td>\n",
              "    </tr>\n",
              "    <tr>\n",
              "      <th>1_relu</th>\n",
              "      <td>-</td>\n",
              "      <td>[32, 2048]</td>\n",
              "      <td>NaN</td>\n",
              "      <td>NaN</td>\n",
              "    </tr>\n",
              "    <tr>\n",
              "      <th>2_fc</th>\n",
              "      <td>[2048, 20]</td>\n",
              "      <td>[32, 20]</td>\n",
              "      <td>40980.0</td>\n",
              "      <td>40960.0</td>\n",
              "    </tr>\n",
              "  </tbody>\n",
              "</table>\n",
              "</div>"
            ],
            "text/plain": [
              "       Kernel Shape    Output Shape     Params  Mult-Adds\n",
              "Layer                                                    \n",
              "0_gru             -  [32, 20, 2048]  8146944.0  8134656.0\n",
              "1_relu            -      [32, 2048]        NaN        NaN\n",
              "2_fc     [2048, 20]        [32, 20]    40980.0    40960.0"
            ]
          },
          "metadata": {
            "tags": []
          },
          "execution_count": 76
        }
      ]
    },
    {
      "cell_type": "code",
      "metadata": {
        "id": "H4qXNtls1iux",
        "colab_type": "code",
        "outputId": "488a5b2d-3788-4f39-fb6b-225099979797",
        "colab": {
          "base_uri": "https://localhost:8080/",
          "height": 455
        }
      },
      "source": [
        "class GRU_Decoder(nn.Module):\n",
        "    def __init__(self, input_dim, hidden_dim, output_dim, n_layers, drop=0.2):\n",
        "        super(GRU_Decoder, self).__init__()\n",
        "        #GRU with dropout,fc layer, relu layer\n",
        "        self.hidden_dim = hidden_dim\n",
        "        self.n_layers = n_layers # unidirectional\n",
        "        \n",
        "        self.gru = nn.GRU(input_dim, hidden_dim, n_layers, batch_first=True, dropout=drop, bidirectional =False) \n",
        "        #batch first will create dims such that dimensions=(batch,dim1,dim2...)\n",
        "        self.fc = nn.Linear(hidden_dim, output_dim)\n",
        "        self.relu = nn.ReLU()\n",
        "\n",
        "    def init_hidden(self, batch_size):\n",
        "        weight = next(self.parameters()).data      \n",
        "         #grabs any parameter of the model and uses it to instantiate (through .data.new) a new tensor on the same device\n",
        "        hidden = weight.new(self.n_layers, batch_size, self.hidden_dim).zero_().to(device)\n",
        "        #ints a hidden vector shape( n_layer,batch_size,hidden_dim) to zero\n",
        "        return hidden\n",
        "\n",
        "    def forward(self, x, h=0):# x dims=()\n",
        "        if h==0:\n",
        "            h=self.init_hidden(32)\n",
        "\n",
        "        out, h = self.gru(x, h)  \n",
        "\n",
        "        #out=out.view(out.size(0),-1)\n",
        "        #out=self.fc(out)\n",
        "        out=self.relu(out[:,-1])\n",
        "        out = self.fc(out) #makes the dimensions from (batchsize,a,b,c,...) to (batchsize,a*b*c*...)\n",
        "\n",
        "        return out, h  #(output of encoder(give to-> attention mechanism ), next hidden state)\n",
        "\n",
        "#input dims must be (i/p dim,timesteps,batchsize)\n",
        "gruEncoder_model=GRU_Encoder(input_dim=300, hidden_dim=1024, output_dim=20, n_layers=1)\n",
        "inputs = torch.zeros((32,20, 300), dtype=torch.float) # [length, batch_size]\n",
        "summary(gruEncoder_model,inputs)\n"
      ],
      "execution_count": 80,
      "outputs": [
        {
          "output_type": "stream",
          "text": [
            "/usr/local/lib/python3.6/dist-packages/torch/nn/modules/rnn.py:51: UserWarning: dropout option adds dropout after all but last recurrent layer, so non-zero dropout expects num_layers greater than 1, but got dropout=0.2 and num_layers=1\n",
            "  \"num_layers={}\".format(dropout, num_layers))\n"
          ],
          "name": "stderr"
        },
        {
          "output_type": "stream",
          "text": [
            "=========================================================\n",
            "       Kernel Shape    Output Shape     Params  Mult-Adds\n",
            "Layer                                                    \n",
            "0_gru             -  [32, 20, 2048]  8.146944M  8.134656M\n",
            "1_relu            -      [32, 2048]          -          -\n",
            "2_fc     [2048, 20]        [32, 20]     40.98k     40.96k\n",
            "---------------------------------------------------------\n",
            "                         Totals\n",
            "Total params          8.187924M\n",
            "Trainable params      8.187924M\n",
            "Non-trainable params        0.0\n",
            "Mult-Adds             8.175616M\n",
            "=========================================================\n"
          ],
          "name": "stdout"
        },
        {
          "output_type": "execute_result",
          "data": {
            "text/html": [
              "<div>\n",
              "<style scoped>\n",
              "    .dataframe tbody tr th:only-of-type {\n",
              "        vertical-align: middle;\n",
              "    }\n",
              "\n",
              "    .dataframe tbody tr th {\n",
              "        vertical-align: top;\n",
              "    }\n",
              "\n",
              "    .dataframe thead th {\n",
              "        text-align: right;\n",
              "    }\n",
              "</style>\n",
              "<table border=\"1\" class=\"dataframe\">\n",
              "  <thead>\n",
              "    <tr style=\"text-align: right;\">\n",
              "      <th></th>\n",
              "      <th>Kernel Shape</th>\n",
              "      <th>Output Shape</th>\n",
              "      <th>Params</th>\n",
              "      <th>Mult-Adds</th>\n",
              "    </tr>\n",
              "    <tr>\n",
              "      <th>Layer</th>\n",
              "      <th></th>\n",
              "      <th></th>\n",
              "      <th></th>\n",
              "      <th></th>\n",
              "    </tr>\n",
              "  </thead>\n",
              "  <tbody>\n",
              "    <tr>\n",
              "      <th>0_gru</th>\n",
              "      <td>-</td>\n",
              "      <td>[32, 20, 2048]</td>\n",
              "      <td>8146944.0</td>\n",
              "      <td>8134656.0</td>\n",
              "    </tr>\n",
              "    <tr>\n",
              "      <th>1_relu</th>\n",
              "      <td>-</td>\n",
              "      <td>[32, 2048]</td>\n",
              "      <td>NaN</td>\n",
              "      <td>NaN</td>\n",
              "    </tr>\n",
              "    <tr>\n",
              "      <th>2_fc</th>\n",
              "      <td>[2048, 20]</td>\n",
              "      <td>[32, 20]</td>\n",
              "      <td>40980.0</td>\n",
              "      <td>40960.0</td>\n",
              "    </tr>\n",
              "  </tbody>\n",
              "</table>\n",
              "</div>"
            ],
            "text/plain": [
              "       Kernel Shape    Output Shape     Params  Mult-Adds\n",
              "Layer                                                    \n",
              "0_gru             -  [32, 20, 2048]  8146944.0  8134656.0\n",
              "1_relu            -      [32, 2048]        NaN        NaN\n",
              "2_fc     [2048, 20]        [32, 20]    40980.0    40960.0"
            ]
          },
          "metadata": {
            "tags": []
          },
          "execution_count": 80
        }
      ]
    },
    {
      "cell_type": "code",
      "metadata": {
        "id": "UwF1bV1NLgdS",
        "colab_type": "code",
        "colab": {}
      },
      "source": [
        ""
      ],
      "execution_count": 0,
      "outputs": []
    }
  ]
}