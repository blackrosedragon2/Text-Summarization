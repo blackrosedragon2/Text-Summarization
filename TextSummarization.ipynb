{
  "nbformat": 4,
  "nbformat_minor": 0,
  "metadata": {
    "colab": {
      "name": "TextSummarization",
      "provenance": [],
      "collapsed_sections": [],
      "include_colab_link": true
    },
    "kernelspec": {
      "name": "python3",
      "display_name": "Python 3"
    }
  },
  "cells": [
    {
      "cell_type": "markdown",
      "metadata": {
        "id": "view-in-github",
        "colab_type": "text"
      },
      "source": [
        "<a href=\"https://colab.research.google.com/github/blackrosedragon2/Text-Summarization/blob/master/TextSummarization.ipynb\" target=\"_parent\"><img src=\"https://colab.research.google.com/assets/colab-badge.svg\" alt=\"Open In Colab\"/></a>"
      ]
    },
    {
      "cell_type": "code",
      "metadata": {
        "id": "eEvQFi0wa1fA",
        "colab_type": "code",
        "outputId": "fdd83c6a-b252-4016-8c52-32065be94f2d",
        "colab": {
          "base_uri": "https://localhost:8080/",
          "height": 34
        }
      },
      "source": [
        "!pip install tqdm"
      ],
      "execution_count": 3,
      "outputs": [
        {
          "output_type": "stream",
          "text": [
            "Requirement already satisfied: tqdm in /usr/local/lib/python3.6/dist-packages (4.28.1)\n"
          ],
          "name": "stdout"
        }
      ]
    },
    {
      "cell_type": "code",
      "metadata": {
        "id": "eqrMHmThPzJb",
        "colab_type": "code",
        "outputId": "51d488da-2c88-4520-bd17-e3a6b87c7bd8",
        "colab": {
          "base_uri": "https://localhost:8080/",
          "height": 124
        }
      },
      "source": [
        "#Reading data onto zipfile object ZF\n",
        "from google.colab import drive\n",
        "import os \n",
        "import zipfile\n",
        "drive.mount('/content/gdrive')\n",
        "root_path = '/content/gdrive/My Drive/data/'  \n",
        "zf=zipfile.ZipFile(root_path+\"cnn_stories.zip\")"
      ],
      "execution_count": 4,
      "outputs": [
        {
          "output_type": "stream",
          "text": [
            "Go to this URL in a browser: https://accounts.google.com/o/oauth2/auth?client_id=947318989803-6bn6qk8qdgf4n4g3pfee6491hc0brc4i.apps.googleusercontent.com&redirect_uri=urn%3Aietf%3Awg%3Aoauth%3A2.0%3Aoob&scope=email%20https%3A%2F%2Fwww.googleapis.com%2Fauth%2Fdocs.test%20https%3A%2F%2Fwww.googleapis.com%2Fauth%2Fdrive%20https%3A%2F%2Fwww.googleapis.com%2Fauth%2Fdrive.photos.readonly%20https%3A%2F%2Fwww.googleapis.com%2Fauth%2Fpeopleapi.readonly&response_type=code\n",
            "\n",
            "Enter your authorization code:\n",
            "··········\n",
            "Mounted at /content/gdrive\n"
          ],
          "name": "stdout"
        }
      ]
    },
    {
      "cell_type": "code",
      "metadata": {
        "id": "gRFIPzWhP-Km",
        "colab_type": "code",
        "colab": {
          "base_uri": "https://localhost:8080/",
          "height": 34
        },
        "outputId": "f67294c2-652d-4621-f0d9-346bd57cb49a"
      },
      "source": [
        "#Read content of all files onto x\n",
        "from tqdm import tqdm\n",
        "i=1\n",
        "x=[]\n",
        "with tqdm(total=92600) as pbar:\n",
        "    while(True):\n",
        "        i=i+1\n",
        "        try:\n",
        "            x.append(zf.open(zf.namelist()[i]).read())\n",
        "        except Exception as E:\n",
        "            break\n",
        "        pbar.update(1)"
      ],
      "execution_count": 5,
      "outputs": [
        {
          "output_type": "stream",
          "text": [
            "100%|█████████▉| 92579/92600 [11:38<00:00, 132.56it/s]\n"
          ],
          "name": "stderr"
        }
      ]
    },
    {
      "cell_type": "code",
      "metadata": {
        "id": "Q9aAAGcDdq2Q",
        "colab_type": "code",
        "outputId": "2967bdfb-1d9b-4a24-ce32-ee80fc7f9524",
        "colab": {
          "base_uri": "https://localhost:8080/",
          "height": 124
        }
      },
      "source": [
        "import re\n",
        "class preprocess:\n",
        "    \n",
        "    def seperate(self,para):\n",
        "        # find @highlight, add length and split story and summary, then decode to utf-8 format, use split tokenizer and seperate the 4 lines , split the \\n parts and return the list\n",
        "        story=para[:para.find('@highlight')]\n",
        "        summary=[i.splitlines()[2] for i in (para[para.find('@highlight')+len('@highlight'):]).split('@highlight')]\n",
        "        return story,summary    \n",
        "        #returns (string,list)\n",
        "\n",
        "    def remove_sp(self,para):\n",
        "        #removes special symbols\n",
        "        return re.sub('[^A-Za-z0-9]+', ' ', para)   #note: add exception for words like U.N. \n",
        "\n",
        "    def remove_parentheses(self,para):\n",
        "        #removes parentheses\n",
        "        return re.sub(r'\\([^)]*\\)', '', para)\n",
        "\n",
        "    def add_tags(self,para):\n",
        "        #add start and end tags \n",
        "        para=\"<start>\"+para+\"<end>\"\n",
        "        return para\n",
        "    def apply_all(self,para):\n",
        "        #applies 1,2,3 functions\n",
        "        p=preprocess()\n",
        "\n",
        "        story,summary=p.seperate(x[0].decode(\"utf-8\"))\n",
        "\n",
        "        nosp_story=p.remove_sp(story)\n",
        "        nosp_summary=[p.remove_sp(i) for i in summary]\n",
        "\n",
        "        nopar_story=p.remove_parentheses(nosp_story)\n",
        "        nopar_summary=[p.remove_parentheses(i) for i in nosp_summary]\n",
        "\n",
        "        return nopar_story,nopar_summary\n",
        "\n",
        "p=preprocess()\n",
        "p.apply_all(x[0])\n",
        "\n"
      ],
      "execution_count": 59,
      "outputs": [
        {
          "output_type": "execute_result",
          "data": {
            "text/plain": [
              "('It s official U S President Barack Obama wants lawmakers to weigh in on whether to use military force in Syria Obama sent a letter to the heads of the House and Senate on Saturday night hours after announcing that he believes military action against Syrian targets is the right step to take over the alleged use of chemical weapons The proposed legislation from Obama asks Congress to approve the use of military force to deter disrupt prevent and degrade the potential for future uses of chemical weapons or other weapons of mass destruction It s a step that is set to turn an international crisis into a fierce domestic political battle There are key questions looming over the debate What did U N weapons inspectors find in Syria What happens if Congress votes no And how will the Syrian government react In a televised address from the White House Rose Garden earlier Saturday the president said he would take his case to Congress not because he has to but because he wants to While I believe I have the authority to carry out this military action without specific congressional authorization I know that the country will be stronger if we take this course and our actions will be even more effective he said We should have this debate because the issues are too big for business as usual Obama said top congressional leaders had agreed to schedule a debate when the body returns to Washington on September 9 The Senate Foreign Relations Committee will hold a hearing over the matter on Tuesday Sen Robert Menendez said Transcript Read Obama s full remarks Syrian crisis Latest developments U N inspectors leave Syria Obama s remarks came shortly after U N inspectors left Syria carrying evidence that will determine whether chemical weapons were used in an attack early last week in a Damascus suburb The aim of the game here the mandate is very clear and that is to ascertain whether chemical weapons were used and not by whom U N spokesman Martin Nesirky told reporters on Saturday But who used the weapons in the reported toxic gas attack in a Damascus suburb on August 21 has been a key point of global debate over the Syrian crisis Top U S officials have said there s no doubt that the Syrian government was behind it while Syrian officials have denied responsibility and blamed jihadists fighting with the rebels British and U S intelligence reports say the attack involved chemical weapons but U N officials have stressed the importance of waiting for an official report from inspectors The inspectors will share their findings with U N Secretary General Ban Ki moon Ban who has said he wants to wait until the U N team s final report is completed before presenting it to the U N Security Council The Organization for the Prohibition of Chemical Weapons which nine of the inspectors belong to said Saturday that it could take up to three weeks to analyze the evidence they collected It needs time to be able to analyze the information and the samples Nesirky said He noted that Ban has repeatedly said there is no alternative to a political solution to the crisis in Syria and that a military solution is not an option Bergen Syria is a problem from hell for the U S Obama This menace must be confronted Obama s senior advisers have debated the next steps to take and the president s comments Saturday came amid mounting political pressure over the situation in Syria Some U S lawmakers have called for immediate action while others warn of stepping into what could become a quagmire Some global leaders have expressed support but the British Parliament s vote against military action earlier this week was a blow to Obama s hopes of getting strong backing from key NATO allies On Saturday Obama proposed what he said would be a limited military action against Syrian President Bashar al Assad Any military attack would not be open ended or include U S ground forces he said Syria s alleged use of chemical weapons earlier this month is an assault on human dignity the president said A failure to respond with force Obama argued could lead to escalating use of chemical weapons or their proliferation to terrorist groups who would do our people harm In a world with many dangers this menace must be confronted Syria missile strike What would happen next Map U S and allied assets around Syria Obama decision came Friday night On Friday night the president made a last minute decision to consult lawmakers What will happen if they vote no It s unclear A senior administration official told CNN that Obama has the authority to act without Congress even if Congress rejects his request for authorization to use force Obama on Saturday continued to shore up support for a strike on the al Assad government He spoke by phone with French President Francois Hollande before his Rose Garden speech The two leaders agreed that the international community must deliver a resolute message to the Assad regime and others who would consider using chemical weapons that these crimes are unacceptable and those who violate this international norm will be held accountable by the world the White House said Meanwhile as uncertainty loomed over how Congress would weigh in U S military officials said they remained at the ready 5 key assertions U S intelligence report on Syria Syria Who wants what after chemical weapons horror Reactions mixed to Obama s speech A spokesman for the Syrian National Coalition said that the opposition group was disappointed by Obama s announcement Our fear now is that the lack of action could embolden the regime and they repeat his attacks in a more serious way said spokesman Louay Safi So we are quite concerned Some members of Congress applauded Obama s decision House Speaker John Boehner Majority Leader Eric Cantor Majority Whip Kevin McCarthy and Conference Chair Cathy McMorris Rodgers issued a statement Saturday praising the president Under the Constitution the responsibility to declare war lies with Congress the Republican lawmakers said We are glad the president is seeking authorization for any military action in Syria in response to serious substantive questions being raised More than 160 legislators including 63 of Obama s fellow Democrats had signed letters calling for either a vote or at least a full debate before any U S action British Prime Minister David Cameron whose own attempt to get lawmakers in his country to support military action in Syria failed earlier this week responded to Obama s speech in a Twitter post Saturday I understand and support Barack Obama s position on Syria Cameron said An influential lawmaker in Russia which has stood by Syria and criticized the United States had his own theory The main reason Obama is turning to the Congress the military operation did not get enough support either in the world among allies of the US or in the United States itself Alexei Pushkov chairman of the international affairs committee of the Russian State Duma said in a Twitter post In the United States scattered groups of anti war protesters around the country took to the streets Saturday Like many other Americans we re just tired of the United States getting involved and invading and bombing other countries said Robin Rosecrans who was among hundreds at a Los Angeles demonstration What do Syria s neighbors think Why Russia China Iran stand by Assad Syria s government unfazed After Obama s speech a military and political analyst on Syrian state TV said Obama is embarrassed that Russia opposes military action against Syria is crying for help for someone to come to his rescue and is facing two defeats on the political and military levels Syria s prime minister appeared unfazed by the saber rattling The Syrian Army s status is on maximum readiness and fingers are on the trigger to confront all challenges Wael Nader al Halqi said during a meeting with a delegation of Syrian expatriates from Italy according to a banner on Syria State TV that was broadcast prior to Obama s address An anchor on Syrian state television said Obama appeared to be preparing for an aggression on Syria based on repeated lies A top Syrian diplomat told the state television network that Obama was facing pressure to take military action from Israel Turkey some Arabs and right wing extremists in the United States I think he has done well by doing what Cameron did in terms of taking the issue to Parliament said Bashar Jaafari Syria s ambassador to the United Nations Both Obama and Cameron he said climbed to the top of the tree and don t know how to get down The Syrian government has denied that it used chemical weapons in the August 21 attack saying that jihadists fighting with the rebels used them in an effort to turn global sentiments against it British intelligence had put the number of people killed in the attack at more than 350 On Saturday Obama said all told well over 1 000 people were murdered U S Secretary of State John Kerry on Friday cited a death toll of 1 429 more than 400 of them children No explanation was offered for the discrepancy Iran U S military action in Syria would spark disaster Opinion Why strikes in Syria are a bad idea ',\n",
              " ['Syrian official Obama climbed to the top of the tree doesn t know how to get down ',\n",
              "  'Obama sends a letter to the heads of the House and Senate',\n",
              "  'Obama to seek congressional approval on military action against Syria',\n",
              "  'Aim is to determine whether CW were used not by whom says U N spokesman'])"
            ]
          },
          "metadata": {
            "tags": []
          },
          "execution_count": 59
        }
      ]
    },
    {
      "cell_type": "code",
      "metadata": {
        "id": "XalfZdPbhJ1M",
        "colab_type": "code",
        "colab": {}
      },
      "source": [
        ""
      ],
      "execution_count": 0,
      "outputs": []
    }
  ]
}